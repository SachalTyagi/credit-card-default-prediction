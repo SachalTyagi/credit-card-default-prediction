{
 "cells": [
  {
   "cell_type": "markdown",
   "id": "ec148827",
   "metadata": {},
   "source": [
    "# 💳 Credit Card Default Prediction Project\n",
    "This project uses machine learning models to predict whether a customer will default on their credit card payment next month.\n",
    "\n",
    "### ✅ Models Included:\n",
    "- Logistic Regression\n",
    "- Random Forest\n",
    "- XGBoost\n",
    "- Evaluation Metrics: Confusion Matrix, Classification Report, ROC AUC\n",
    "\n",
    "Dataset Source: [UCI Repository](https://archive.ics.uci.edu/ml/datasets/default+of+credit+card+clients)"
   ]
  },
  {
   "cell_type": "code",
   "execution_count": null,
   "id": "b750538a",
   "metadata": {},
   "outputs": [],
   "source": [
    "import pandas as pd\n",
    "import numpy as np\n",
    "from sklearn.model_selection import train_test_split\n",
    "from sklearn.preprocessing import StandardScaler\n",
    "from sklearn.linear_model import LogisticRegression\n",
    "from sklearn.ensemble import RandomForestClassifier\n",
    "from xgboost import XGBClassifier\n",
    "from sklearn.metrics import classification_report, confusion_matrix, roc_auc_score"
   ]
  },
  {
   "cell_type": "code",
   "execution_count": null,
   "id": "73e72f11",
   "metadata": {},
   "outputs": [],
   "source": [
    "# Load dataset\n",
    "url = \"https://archive.ics.uci.edu/ml/machine-learning-databases/00350/default%20of%20credit%20card%20clients.xls\"\n",
    "data = pd.read_excel(url, header=1)\n",
    "data.rename(columns={'default payment next month': 'default'}, inplace=True)\n",
    "\n",
    "# Drop ID column and split into features/target\n",
    "X = data.drop(columns=['ID', 'default'])\n",
    "y = data['default']\n",
    "\n",
    "# Train-test split\n",
    "X_train, X_test, y_train, y_test = train_test_split(X, y, test_size=0.2, random_state=42)\n",
    "\n",
    "# Feature scaling for Logistic Regression\n",
    "scaler = StandardScaler()\n",
    "X_train_scaled = scaler.fit_transform(X_train)\n",
    "X_test_scaled = scaler.transform(X_test)"
   ]
  },
  {
   "cell_type": "code",
   "execution_count": null,
   "id": "08be10f7",
   "metadata": {},
   "outputs": [],
   "source": [
    "# Initialize models\n",
    "log_reg = LogisticRegression(max_iter=1000)\n",
    "rf = RandomForestClassifier(n_estimators=100, random_state=42)\n",
    "xgb = XGBClassifier(use_label_encoder=False, eval_metric='logloss', random_state=42)\n",
    "\n",
    "# Train models\n",
    "log_reg.fit(X_train_scaled, y_train)\n",
    "rf.fit(X_train, y_train)\n",
    "xgb.fit(X_train, y_train)"
   ]
  },
  {
   "cell_type": "code",
   "execution_count": null,
   "id": "d5a72ee4",
   "metadata": {},
   "outputs": [],
   "source": [
    "# Predictions\n",
    "y_pred_log = log_reg.predict(X_test_scaled)\n",
    "y_pred_rf = rf.predict(X_test)\n",
    "y_pred_xgb = xgb.predict(X_test)\n",
    "\n",
    "# Metrics\n",
    "print(\"🔹 Logistic Regression\")\n",
    "print(confusion_matrix(y_test, y_pred_log))\n",
    "print(classification_report(y_test, y_pred_log))\n",
    "print(\"ROC AUC:\", roc_auc_score(y_test, y_pred_log))\n",
    "\n",
    "print(\"\\n🔹 Random Forest\")\n",
    "print(confusion_matrix(y_test, y_pred_rf))\n",
    "print(classification_report(y_test, y_pred_rf))\n",
    "print(\"ROC AUC:\", roc_auc_score(y_test, y_pred_rf))\n",
    "\n",
    "print(\"\\n🔹 XGBoost\")\n",
    "print(confusion_matrix(y_test, y_pred_xgb))\n",
    "print(classification_report(y_test, y_pred_xgb))\n",
    "print(\"ROC AUC:\", roc_auc_score(y_test, y_pred_xgb))"
   ]
  },
  {
   "cell_type": "markdown",
   "id": "292234f1",
   "metadata": {},
   "source": [
    "### ✅ Next Steps (Optional)\n",
    "- Use SHAP (SHapley Additive exPlanations) to interpret XGBoost results\n",
    "- Deploy model with Streamlit or Flask\n",
    "- Build a dashboard using Power BI or Tableau"
   ]
  },
  {
   "cell_type": "markdown",
   "id": "630e4437",
   "metadata": {},
   "source": [
    "## 🔍 SHAP Interpretation for XGBoost\n",
    "Now we use **SHAP (SHapley Additive Explanations)** to understand feature contributions to model predictions."
   ]
  },
  {
   "cell_type": "code",
   "execution_count": null,
   "id": "243a685b",
   "metadata": {},
   "outputs": [],
   "source": [
    "!pip install shap"
   ]
  },
  {
   "cell_type": "code",
   "execution_count": null,
   "id": "6f3a1a15",
   "metadata": {},
   "outputs": [],
   "source": [
    "import shap\n",
    "\n",
    "# Ensure input is a DataFrame for SHAP compatibility\n",
    "X_test_df = pd.DataFrame(X_test, columns=X.columns)\n",
    "\n",
    "# Create SHAP explainer\n",
    "explainer = shap.Explainer(xgb)\n",
    "\n",
    "# Compute SHAP values for a sample\n",
    "shap_values = explainer(X_test_df[:100])"
   ]
  },
  {
   "cell_type": "code",
   "execution_count": null,
   "id": "5942512a",
   "metadata": {},
   "outputs": [],
   "source": [
    "# Summary plot of SHAP values\n",
    "shap.summary_plot(shap_values, X_test_df[:100])"
   ]
  },
  {
   "cell_type": "code",
   "execution_count": null,
   "id": "524bb029",
   "metadata": {},
   "outputs": [],
   "source": [
    "# Waterfall plot for the first prediction\n",
    "shap.plots.waterfall(shap_values[0])"
   ]
  }
 ],
 "metadata": {},
 "nbformat": 4,
 "nbformat_minor": 5
}
